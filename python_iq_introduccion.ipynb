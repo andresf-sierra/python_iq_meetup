{
  "nbformat": 4,
  "nbformat_minor": 0,
  "metadata": {
    "colab": {
      "name": "python_iq_introduccion.ipynb",
      "provenance": [],
      "collapsed_sections": [],
      "include_colab_link": true
    },
    "kernelspec": {
      "name": "python3",
      "display_name": "Python 3"
    },
    "language_info": {
      "name": "python"
    }
  },
  "cells": [
    {
      "cell_type": "markdown",
      "metadata": {
        "id": "view-in-github",
        "colab_type": "text"
      },
      "source": [
        "<a href=\"https://colab.research.google.com/github/andresf-sierra/python_iq_meetup/blob/master/python_iq_introduccion.ipynb\" target=\"_parent\"><img src=\"https://colab.research.google.com/assets/colab-badge.svg\" alt=\"Open In Colab\"/></a>"
      ]
    },
    {
      "cell_type": "markdown",
      "metadata": {
        "id": "uydALjBx3gZ9"
      },
      "source": [
        "# **Introducción y Conceptos Básicos de Python para IQ**\n",
        "\n",
        "####  ***Andrés F. Sierra***\n",
        "\n",
        "  *Estudiante de Ingeniería Química y Ciencia de Datos*\n",
        "\n",
        "  *Campus Rep 2021* \n",
        "\n",
        "  *Diplomado en Análisis de Datos y Machine Learning en Python*\n",
        "  \n",
        "\n",
        " <!-- badges: start -->\n",
        "[![Andres Sierra](https://img.shields.io/badge/LinkedIn-blue?&logoColor=white)](https://www.linkedin.com/in/andresf-sierra/) \n",
        "[![Andres Sierra](https://img.shields.io/badge/GitHub-green?&logoColor=white)](https://github.com/andresf-sierra)\n",
        "<!-- badges: end -->"
      ]
    },
    {
      "cell_type": "markdown",
      "metadata": {
        "id": "AF8QwoTG39kO"
      },
      "source": [
        "# 1) Introducción a Google Colab\n",
        "\n",
        "\n",
        "**Colaboratory**, o mejor conocido como **Colab**, provee de un entorno interactivo a nivel de **archivo**. Dentro de él podrás **escribir** y **ejecutar código** python de una forma **sencilla** y **colaborativa** en tiempo real **sin** ninguna **configuración** extra.\n",
        "\n",
        "El componente de trabajo **clave** en **Colab** son los **notebooks**, también conocidos como libretas interactivas o bloc de notas. Un notebook es una herramienta en la que puedes combinar **código ejecutable** y **texto enriquecido** en un sólo lugar. Además, podrás incluir **imágenes**, **HTML**, **LaTeX** y mucho más.\n",
        "\n",
        "---\n",
        "\n",
        "\n"
      ]
    },
    {
      "cell_type": "markdown",
      "metadata": {
        "id": "QZrtSSGdui7U"
      },
      "source": [
        "## Ejecución y edición de celdas\n",
        "\n",
        "###  Celdas de código\n",
        "\n",
        "A continuación encontrarás una **celda de código** en la que podrás ejecutar una sencilla instrucción en `Python`\n",
        "\n",
        "\n",
        "\n"
      ]
    },
    {
      "cell_type": "code",
      "metadata": {
        "id": "QqB6Z0EtvKdC",
        "colab": {
          "base_uri": "https://localhost:8080/"
        },
        "outputId": "e9d4fc45-a94b-4d21-e91d-23b8e8527115"
      },
      "source": [
        "print(\"Hola mamá, estoy aprendiendo Python\")"
      ],
      "execution_count": null,
      "outputs": [
        {
          "output_type": "stream",
          "name": "stdout",
          "text": [
            "Hola mamá, estoy aprendiendo Python\n"
          ]
        }
      ]
    },
    {
      "cell_type": "markdown",
      "metadata": {
        "id": "cZ2A8cnwvrmt"
      },
      "source": [
        "Interactuar con las **celdas de código** es tan sencillo como dar clic en ella y presionar `Command/Ctrl + Enter`para **ejecutarla** y simplemente `escribir` para **editarla**."
      ]
    },
    {
      "cell_type": "markdown",
      "metadata": {
        "id": "tZgn2E3dviX6"
      },
      "source": [
        "> Edita, ejecuta, observa y repite. Ese es el ciclo de trabajo en los **notebooks**."
      ]
    },
    {
      "cell_type": "markdown",
      "metadata": {
        "id": "AlXhOMPIx7AJ"
      },
      "source": [
        "Ahora hagamos una conversión de unas sencillas unidades, números de segundos en un día"
      ]
    },
    {
      "cell_type": "code",
      "metadata": {
        "colab": {
          "base_uri": "https://localhost:8080/"
        },
        "id": "ldB3rUz938-t",
        "outputId": "b5061c77-abc8-4731-8b29-0f761ba72d19"
      },
      "source": [
        "secs_per_day = 60*60*24 #[seg*min*h]\n",
        "\n",
        "print(secs_per_day)"
      ],
      "execution_count": null,
      "outputs": [
        {
          "output_type": "stream",
          "name": "stdout",
          "text": [
            "86400\n"
          ]
        }
      ]
    },
    {
      "cell_type": "code",
      "metadata": {
        "id": "3Mja1zi5zECA",
        "colab": {
          "base_uri": "https://localhost:8080/"
        },
        "outputId": "46fbdddf-3d21-4319-ba34-6b338d211597"
      },
      "source": [
        "print(f'Un día tiene {secs_per_day} segundos')"
      ],
      "execution_count": null,
      "outputs": [
        {
          "output_type": "stream",
          "name": "stdout",
          "text": [
            "Un día tiene 86400 segundos\n"
          ]
        }
      ]
    },
    {
      "cell_type": "markdown",
      "metadata": {
        "id": "CEFm3KdvV0VN"
      },
      "source": [
        "Hola, ya di mis primeros pasos en **Colab**"
      ]
    },
    {
      "cell_type": "markdown",
      "metadata": {
        "id": "Le-7Uwn46uwy"
      },
      "source": [
        "# 2) Introducción a Python"
      ]
    },
    {
      "cell_type": "markdown",
      "metadata": {
        "id": "Q0IrwMQ_zwGO"
      },
      "source": [
        "### Variables\n",
        "\n",
        "Los nombres de las variables en Python pueden contener caracteres alfanuméricos a-z, A-Z, 0-9 y algunos caracteres especiales como _. Los nombres de las variables deben comenzar con una letra.\n",
        "\n",
        "Entre las características más destacables de las sesiones interactivas dentro de los notebooks es que las variables que definas en una celda pueden ser utilizadas después en otras:\n",
        "\n",
        "**Asignamos** a dos variables un texto (*string*)"
      ]
    },
    {
      "cell_type": "code",
      "metadata": {
        "id": "2yH3UfjU3Zi2"
      },
      "source": [
        "mi_primera_variable = \"¿Vamos a hacer ejercicios de IQ\"\n",
        "mi_segunda_variable = \" o mejor me duermo?\""
      ],
      "execution_count": null,
      "outputs": []
    },
    {
      "cell_type": "code",
      "metadata": {
        "id": "XXnqTaJI5XiX",
        "colab": {
          "base_uri": "https://localhost:8080/"
        },
        "outputId": "3c63db35-954f-40f4-866a-bfee91fad42e"
      },
      "source": [
        "print(f'{mi_primera_variable}{mi_segunda_variable}')"
      ],
      "execution_count": null,
      "outputs": [
        {
          "output_type": "stream",
          "name": "stdout",
          "text": [
            "¿Vamos a hacer ejercicios de IQ o mejor me duermo?\n"
          ]
        }
      ]
    },
    {
      "cell_type": "markdown",
      "metadata": {
        "id": "L6DVY12V5_Yo"
      },
      "source": [
        "También podemos agrupar el resultado en una nueva variable."
      ]
    },
    {
      "cell_type": "code",
      "metadata": {
        "id": "y0ZK9pLk6G3M",
        "colab": {
          "base_uri": "https://localhost:8080/"
        },
        "outputId": "5819070d-bf13-4717-ce3c-001c8df6da4a"
      },
      "source": [
        "mi_tercera_variable = mi_primera_variable + mi_segunda_variable\n",
        "print(mi_tercera_variable)"
      ],
      "execution_count": null,
      "outputs": [
        {
          "output_type": "stream",
          "name": "stdout",
          "text": [
            "¿Vamos a hacer ejercicios de IQ o mejor me duermo?\n"
          ]
        }
      ]
    },
    {
      "cell_type": "markdown",
      "metadata": {
        "id": "3yKCFcat7cb4"
      },
      "source": [
        "### Tipos de variables\n",
        "\n",
        "En Python, los tipos fundamentales son \n",
        "\n",
        "\n",
        "\n",
        "\n",
        "\n",
        "1.   Enteros (int).\n",
        "2.   Punto flotante (float).\n",
        "3.   Buleanos (boolean)\n",
        "4.   Cadena de caracteres (strings).\n",
        "\n",
        "Veamos algunos ejemplos de estos tipos:"
      ]
    },
    {
      "cell_type": "markdown",
      "metadata": {
        "id": "BYgU9nbV7psQ"
      },
      "source": [
        "Enteros (int)"
      ]
    },
    {
      "cell_type": "code",
      "metadata": {
        "id": "_vEWNXYu7n0E",
        "colab": {
          "base_uri": "https://localhost:8080/"
        },
        "outputId": "556ebb6b-8e52-4a06-97e2-9ed581d615aa"
      },
      "source": [
        "edad = 18  \n",
        "type(edad)"
      ],
      "execution_count": null,
      "outputs": [
        {
          "output_type": "execute_result",
          "data": {
            "text/plain": [
              "int"
            ]
          },
          "metadata": {},
          "execution_count": 34
        }
      ]
    },
    {
      "cell_type": "markdown",
      "metadata": {
        "id": "7IgzGN0Q8B_w"
      },
      "source": [
        "Punto flotante (float)"
      ]
    },
    {
      "cell_type": "code",
      "metadata": {
        "id": "TDz7OQGM8GS1",
        "colab": {
          "base_uri": "https://localhost:8080/"
        },
        "outputId": "3c60d38a-2611-4ff3-91a2-d1d4826d3e91"
      },
      "source": [
        "estatura = 1.61\n",
        "type(estatura)"
      ],
      "execution_count": null,
      "outputs": [
        {
          "output_type": "execute_result",
          "data": {
            "text/plain": [
              "float"
            ]
          },
          "metadata": {},
          "execution_count": 35
        }
      ]
    },
    {
      "cell_type": "markdown",
      "metadata": {
        "id": "r6PRe32h8Qiz"
      },
      "source": [
        "Buleanos (boolean)"
      ]
    },
    {
      "cell_type": "code",
      "metadata": {
        "id": "8cnyT7AM8bfr",
        "colab": {
          "base_uri": "https://localhost:8080/"
        },
        "outputId": "c867bc89-e947-4f97-945c-adde3fad1a8a"
      },
      "source": [
        "aprendo_python = True\n",
        "type(aprendo_python)\n"
      ],
      "execution_count": null,
      "outputs": [
        {
          "output_type": "execute_result",
          "data": {
            "text/plain": [
              "bool"
            ]
          },
          "metadata": {},
          "execution_count": 36
        }
      ]
    },
    {
      "cell_type": "markdown",
      "metadata": {
        "id": "e0ATAtF_8m-a"
      },
      "source": [
        "Cadenas de texto (Strings)"
      ]
    },
    {
      "cell_type": "code",
      "metadata": {
        "id": "uuAWh8JP8p3P",
        "colab": {
          "base_uri": "https://localhost:8080/"
        },
        "outputId": "ad552c3c-6d4f-4db1-e649-067b78ea0248"
      },
      "source": [
        "materia_dificil = \"Fenómenos de Transporte\"\n",
        "type(materia_dificil) "
      ],
      "execution_count": null,
      "outputs": [
        {
          "output_type": "execute_result",
          "data": {
            "text/plain": [
              "str"
            ]
          },
          "metadata": {},
          "execution_count": 37
        }
      ]
    },
    {
      "cell_type": "markdown",
      "metadata": {
        "id": "a83T30JL-Y8i"
      },
      "source": [
        "## Operadores y comparadores\n",
        "\n",
        "| Operadores      | aritméticos |\n",
        "|-----------------|-------------|\n",
        "| Suma            |      +      |\n",
        "| Resta           |      -      |\n",
        "| Multiplicación  |      *      |\n",
        "| División        |      /      |\n",
        "| División entera | //          |\n",
        "| Negación        | -           |\n",
        "| Exponente       | **          |\n",
        "| Módulo          | %           |\n",
        "\n",
        "\n",
        "\n"
      ]
    },
    {
      "cell_type": "code",
      "metadata": {
        "id": "OIamOaKQ-05k",
        "colab": {
          "base_uri": "https://localhost:8080/"
        },
        "outputId": "fe71057e-2ba7-4ff4-ed68-2ff75e568ddd"
      },
      "source": [
        "2**2"
      ],
      "execution_count": null,
      "outputs": [
        {
          "output_type": "execute_result",
          "data": {
            "text/plain": [
              "4"
            ]
          },
          "metadata": {},
          "execution_count": 39
        }
      ]
    },
    {
      "cell_type": "code",
      "metadata": {
        "id": "WZ-73XeBCdg7"
      },
      "source": [
        ""
      ],
      "execution_count": null,
      "outputs": []
    },
    {
      "cell_type": "markdown",
      "metadata": {
        "id": "rUQbby0u_JRB"
      },
      "source": [
        "\n",
        "\n",
        "*   Los buleanos están conectados o precedidos por palabras como `and`, `not`, `or`."
      ]
    },
    {
      "cell_type": "code",
      "metadata": {
        "id": "lbz4kmUz_KJe",
        "colab": {
          "base_uri": "https://localhost:8080/"
        },
        "outputId": "74d879a1-2663-4937-cfa1-2ff3a900c7eb"
      },
      "source": [
        "True and False"
      ],
      "execution_count": null,
      "outputs": [
        {
          "output_type": "execute_result",
          "data": {
            "text/plain": [
              "False"
            ]
          },
          "metadata": {},
          "execution_count": 40
        }
      ]
    },
    {
      "cell_type": "code",
      "metadata": {
        "id": "ZK51eS4FC8Ad",
        "colab": {
          "base_uri": "https://localhost:8080/"
        },
        "outputId": "7a59d944-0bf4-4c9a-f27a-a3409f40ebe1"
      },
      "source": [
        "not False"
      ],
      "execution_count": null,
      "outputs": [
        {
          "output_type": "execute_result",
          "data": {
            "text/plain": [
              "True"
            ]
          },
          "metadata": {},
          "execution_count": 41
        }
      ]
    },
    {
      "cell_type": "code",
      "metadata": {
        "id": "yBdELniUDB9m",
        "colab": {
          "base_uri": "https://localhost:8080/"
        },
        "outputId": "5b19efc1-2014-4e77-8f63-be3460af40ff"
      },
      "source": [
        "True or False"
      ],
      "execution_count": null,
      "outputs": [
        {
          "output_type": "execute_result",
          "data": {
            "text/plain": [
              "True"
            ]
          },
          "metadata": {},
          "execution_count": 42
        }
      ]
    },
    {
      "cell_type": "markdown",
      "metadata": {
        "id": "kX0qEu0xDGmX"
      },
      "source": [
        "*   Operadores de comparación `>`, `<`, `>=`(mayor o igual), `<=` (menor o igual), `==` (igual), `!=`(no igual) y `is` (identico).\n"
      ]
    },
    {
      "cell_type": "code",
      "metadata": {
        "id": "8OORYpyHDHJ9",
        "colab": {
          "base_uri": "https://localhost:8080/"
        },
        "outputId": "059cae8d-15ee-4cdf-942b-2171a09c5284"
      },
      "source": [
        "2>1,2<1"
      ],
      "execution_count": null,
      "outputs": [
        {
          "output_type": "execute_result",
          "data": {
            "text/plain": [
              "(True, False)"
            ]
          },
          "metadata": {},
          "execution_count": 43
        }
      ]
    },
    {
      "cell_type": "code",
      "metadata": {
        "id": "gAm3gYjbDLiS",
        "colab": {
          "base_uri": "https://localhost:8080/"
        },
        "outputId": "488a5cac-a910-415b-cb72-96bbf6b21c71"
      },
      "source": [
        "2>3,2<2"
      ],
      "execution_count": null,
      "outputs": [
        {
          "output_type": "execute_result",
          "data": {
            "text/plain": [
              "(False, False)"
            ]
          },
          "metadata": {},
          "execution_count": 44
        }
      ]
    },
    {
      "cell_type": "code",
      "metadata": {
        "id": "x_x3-RfuDN32",
        "colab": {
          "base_uri": "https://localhost:8080/"
        },
        "outputId": "dbe6d137-ca88-4277-e9ee-9b054dc048ac"
      },
      "source": [
        "4<=4,4>=4"
      ],
      "execution_count": null,
      "outputs": [
        {
          "output_type": "execute_result",
          "data": {
            "text/plain": [
              "(True, True)"
            ]
          },
          "metadata": {},
          "execution_count": 45
        }
      ]
    },
    {
      "cell_type": "code",
      "metadata": {
        "id": "6aVZalRzDWfm",
        "colab": {
          "base_uri": "https://localhost:8080/"
        },
        "outputId": "456b49ed-aed3-4389-ef8d-20a8c1ef7409"
      },
      "source": [
        "#igual a\n",
        "[3.0,2]==[3,2]"
      ],
      "execution_count": null,
      "outputs": [
        {
          "output_type": "execute_result",
          "data": {
            "text/plain": [
              "True"
            ]
          },
          "metadata": {},
          "execution_count": 47
        }
      ]
    },
    {
      "cell_type": "code",
      "metadata": {
        "id": "epiq3gNYDXR0",
        "colab": {
          "base_uri": "https://localhost:8080/"
        },
        "outputId": "94a1a6ff-3674-4d8e-982d-9cc859ba6292"
      },
      "source": [
        "# Not equal to\n",
        "\n",
        "2 != 5"
      ],
      "execution_count": null,
      "outputs": [
        {
          "output_type": "execute_result",
          "data": {
            "text/plain": [
              "True"
            ]
          },
          "metadata": {},
          "execution_count": 48
        }
      ]
    },
    {
      "cell_type": "code",
      "metadata": {
        "id": "3oD_lPZuFHRy"
      },
      "source": [
        ""
      ],
      "execution_count": null,
      "outputs": []
    },
    {
      "cell_type": "markdown",
      "metadata": {
        "id": "H9z6rDf-FJLd"
      },
      "source": [
        "# 3) Ejemplos en la Ingeniería Química\n",
        "\n",
        "### Volumen molar y factor de compresibilidad a partir de la ecuación de Van Der Waals\n",
        "\n",
        "#### **Problema:**\n",
        "\n",
        "Utilice la ecuación de estado de Van der Waals, dada por:\n",
        "\n",
        "$$\\left(P+\\frac{a}{V^2}\\right)\\left(V-b\\right)=RT$$\n",
        "\n",
        "$$a=\\frac{27}{64}\\left(\\frac{R^2T^2_c}{P_c}\\right)$$\n",
        "\n",
        "$$b=\\frac{RT_c}{8P_c}$$\n",
        "\n",
        "Dónde\n",
        "\n",
        "\n",
        "\n",
        "\n",
        "* $P$ es la presión en atm\n",
        "* $V$ es el volumen molar en litros/g-mol\n",
        "* $T$ es la temperatura en Kelvin\n",
        "* $R$ es la constante de gas ideal (R = 0.08206 atm.litros/g-mol.K)\n",
        "* $T_c$ es la temperatura crítica (405.5 K para el amoniaco)\n",
        "* $P_c$ es la presión crítica (111.3 atm para el amoniaco)\n",
        "\n",
        "\n",
        "La presión reducida es:\n",
        "\n",
        "$$P_r=\\frac{P}{P_c}$$\n",
        "\n",
        "Y la compresibilidad es:\n",
        "\n",
        "$$Z=\\frac{PV}{RT}$$\n",
        "\n",
        "- **Calcule** el volumen molar y el factor de compresibilidad del amoníaco gaseoso a 56 atm y 450 K utilizando la ecuación de estado de Van der Waals.\n",
        "\n",
        "\n",
        "\n"
      ]
    },
    {
      "cell_type": "markdown",
      "metadata": {
        "id": "7Ac4ObA_IBQS"
      },
      "source": [
        "---\n",
        "**Solución**\n",
        "\n",
        "Como tenemos que reordenar la ecuación, podemos utilizar el paquete sympy para que haga el álgebra por nosotros:\n",
        "\n"
      ]
    },
    {
      "cell_type": "code",
      "metadata": {
        "id": "eaIcSJJYILmQ"
      },
      "source": [
        "import sympy"
      ],
      "execution_count": null,
      "outputs": []
    },
    {
      "cell_type": "code",
      "metadata": {
        "id": "K8ivSjaAIRWt"
      },
      "source": [
        "P,V,N,R,T,a,b,Pc,Pr,Tc,Z = sympy.symbols('P V N R T a b Pc Pr Tc Z')"
      ],
      "execution_count": null,
      "outputs": []
    },
    {
      "cell_type": "code",
      "metadata": {
        "id": "C4P0YXovIUAy"
      },
      "source": [
        "eq1 = sympy.Eq((P+a/V**2)*(V-b),R*T) #Van der Waals\n",
        "a_def = sympy.Eq(27/64*(R**2*Tc**2/Pc),a) #Factor a\n",
        "b_def = sympy.Eq(R*Tc/(8*Pc),b) #Factor b"
      ],
      "execution_count": null,
      "outputs": []
    },
    {
      "cell_type": "markdown",
      "metadata": {
        "id": "gRLHEWOwIZHD"
      },
      "source": [
        "\n",
        "Confirmemos que hemos introducido las ecuaciones"
      ]
    },
    {
      "cell_type": "code",
      "metadata": {
        "id": "OS9lzcvJIako",
        "colab": {
          "base_uri": "https://localhost:8080/",
          "height": 48
        },
        "outputId": "d56084f4-8fa9-4019-bab5-12c94e943555"
      },
      "source": [
        "eq1\n"
      ],
      "execution_count": null,
      "outputs": [
        {
          "output_type": "execute_result",
          "data": {
            "text/latex": "$\\displaystyle \\left(P + \\frac{a}{V^{2}}\\right) \\left(V - b\\right) = R T$",
            "text/plain": [
              "Eq((P + a/V**2)*(V - b), R*T)"
            ]
          },
          "metadata": {},
          "execution_count": 52
        }
      ]
    },
    {
      "cell_type": "code",
      "metadata": {
        "id": "zUqlWn77IiTD",
        "colab": {
          "base_uri": "https://localhost:8080/",
          "height": 54
        },
        "outputId": "f3a2e3b3-d42e-41f4-e2a6-42f1de1f6402"
      },
      "source": [
        "a_def\n"
      ],
      "execution_count": null,
      "outputs": [
        {
          "output_type": "execute_result",
          "data": {
            "text/latex": "$\\displaystyle \\frac{0.421875 R^{2} Tc^{2}}{Pc} = a$",
            "text/plain": [
              "Eq(0.421875*R**2*Tc**2/Pc, a)"
            ]
          },
          "metadata": {},
          "execution_count": 53
        }
      ]
    },
    {
      "cell_type": "code",
      "metadata": {
        "id": "ZwRR6EVFIj1-",
        "colab": {
          "base_uri": "https://localhost:8080/",
          "height": 52
        },
        "outputId": "3832b793-730e-4963-93bb-4361ec80cadd"
      },
      "source": [
        "b_def"
      ],
      "execution_count": null,
      "outputs": [
        {
          "output_type": "execute_result",
          "data": {
            "text/latex": "$\\displaystyle \\frac{R Tc}{8 Pc} = b$",
            "text/plain": [
              "Eq(R*Tc/(8*Pc), b)"
            ]
          },
          "metadata": {},
          "execution_count": 54
        }
      ]
    },
    {
      "cell_type": "markdown",
      "metadata": {
        "id": "prm0CiZIIm2T"
      },
      "source": [
        "Podemos obtener los valores de $a$ y $b$ con la sustitución:"
      ]
    },
    {
      "cell_type": "code",
      "metadata": {
        "id": "NwQSBEl8Ik0i",
        "colab": {
          "base_uri": "https://localhost:8080/",
          "height": 58
        },
        "outputId": "c1ee15ba-a028-4bb2-bbaa-4ce193e9fe6b"
      },
      "source": [
        "eq1_subs = eq1.subs({a:27/64*(R**2*Tc**2/Pc),b:R*Tc/(8*Pc)})\n",
        "eq1_subs"
      ],
      "execution_count": null,
      "outputs": [
        {
          "output_type": "execute_result",
          "data": {
            "text/latex": "$\\displaystyle \\left(P + \\frac{0.421875 R^{2} Tc^{2}}{Pc V^{2}}\\right) \\left(V - \\frac{R Tc}{8 Pc}\\right) = R T$",
            "text/plain": [
              "Eq((P + 0.421875*R**2*Tc**2/(Pc*V**2))*(V - R*Tc/(8*Pc)), R*T)"
            ]
          },
          "metadata": {},
          "execution_count": 55
        }
      ]
    },
    {
      "cell_type": "markdown",
      "metadata": {
        "id": "BbNIFZTfI4ql"
      },
      "source": [
        "Solución para a)\n",
        "\n",
        "Sustituye la presión y la temperatura dadas para la parte a:"
      ]
    },
    {
      "cell_type": "code",
      "metadata": {
        "id": "u8IxpDpzJKas"
      },
      "source": [
        "\n",
        "eq1_subs_part_a = eq1_subs.subs({P:56,R:0.08206,T:450,Pc:111.3,Tc:405.5})"
      ],
      "execution_count": null,
      "outputs": []
    },
    {
      "cell_type": "markdown",
      "metadata": {
        "id": "gUq5O2nBJoxs"
      },
      "source": [
        "A continuación, podemos sustituir los otros valores, y resolver para $V$"
      ]
    },
    {
      "cell_type": "code",
      "metadata": {
        "id": "hI0lfPVmJp6u",
        "colab": {
          "base_uri": "https://localhost:8080/",
          "height": 37
        },
        "outputId": "6ae5b640-84d9-413d-a138-9e886c1507cf"
      },
      "source": [
        "root = sympy.solveset(eq1_subs_part_a,symbol = V, domain=sympy.S.Reals)\n",
        "root.args[0]"
      ],
      "execution_count": null,
      "outputs": [
        {
          "output_type": "execute_result",
          "data": {
            "text/latex": "$\\displaystyle 0.574891913557151$",
            "text/plain": [
              "0.574891913557151"
            ]
          },
          "metadata": {},
          "execution_count": 57
        }
      ]
    },
    {
      "cell_type": "markdown",
      "metadata": {
        "id": "4M-aQaasJwRX"
      },
      "source": [
        "Resolviendo para $Z$"
      ]
    },
    {
      "cell_type": "code",
      "metadata": {
        "id": "I8G3aCi0J0pj",
        "colab": {
          "base_uri": "https://localhost:8080/",
          "height": 37
        },
        "outputId": "b2d19627-36d3-4e77-89bb-8a8bd96c7448"
      },
      "source": [
        "\n",
        "(P*V/(R*T)).subs({P:56,R:0.08206,T:450,V:root.args[0]})"
      ],
      "execution_count": null,
      "outputs": [
        {
          "output_type": "execute_result",
          "data": {
            "text/latex": "$\\displaystyle 0.871826770633966$",
            "text/plain": [
              "0.871826770633966"
            ]
          },
          "metadata": {},
          "execution_count": 58
        }
      ]
    },
    {
      "cell_type": "markdown",
      "metadata": {
        "id": "Ykr2AkOkJ7Av"
      },
      "source": [
        "Repositorio para los notebooks y scripts usados en el Meetup de Introducción y Conceptos Básicos de Python para Ingenieros Químicos, realizado con Platzi Campus Rep"
      ]
    },
    {
      "cell_type": "code",
      "metadata": {
        "colab": {
          "base_uri": "https://localhost:8080/"
        },
        "id": "HH4o6EfDH4tt",
        "outputId": "5bcf25e2-a007-4492-b3c0-c24e3f59391c"
      },
      "source": [
        "!git init\n",
        "!git config — global user.email “andrew.lol.serra@gmail.com”\n",
        "!git config — global user.name “andresf-sierra”\n",
        "!git add -A\n",
        "!git commit -m \"Notebook primera reunión\"\n",
        "!git remote add origin https://<username>:<password>@github.com/<username>/reponame.git"
      ],
      "execution_count": 7,
      "outputs": [
        {
          "output_type": "stream",
          "name": "stdout",
          "text": [
            "Reinitialized existing Git repository in /content/.git/\n",
            "usage: git config [<options>]\n",
            "\n",
            "Config file location\n",
            "    --global              use global config file\n",
            "    --system              use system config file\n",
            "    --local               use repository config file\n",
            "    -f, --file <file>     use given config file\n",
            "    --blob <blob-id>      read config from given blob object\n",
            "\n",
            "Action\n",
            "    --get                 get value: name [value-regex]\n",
            "    --get-all             get all values: key [value-regex]\n",
            "    --get-regexp          get values for regexp: name-regex [value-regex]\n",
            "    --get-urlmatch        get value specific for the URL: section[.var] URL\n",
            "    --replace-all         replace all matching variables: name value [value_regex]\n",
            "    --add                 add a new variable: name value\n",
            "    --unset               remove a variable: name [value-regex]\n",
            "    --unset-all           remove all matches: name [value-regex]\n",
            "    --rename-section      rename section: old-name new-name\n",
            "    --remove-section      remove a section: name\n",
            "    -l, --list            list all\n",
            "    -e, --edit            open an editor\n",
            "    --get-color           find the color configured: slot [default]\n",
            "    --get-colorbool       find the color setting: slot [stdout-is-tty]\n",
            "\n",
            "Type\n",
            "    --bool                value is \"true\" or \"false\"\n",
            "    --int                 value is decimal number\n",
            "    --bool-or-int         value is --bool or --int\n",
            "    --path                value is a path (file or directory name)\n",
            "    --expiry-date         value is an expiry date\n",
            "\n",
            "Other\n",
            "    -z, --null            terminate values with NUL byte\n",
            "    --name-only           show variable names only\n",
            "    --includes            respect include directives on lookup\n",
            "    --show-origin         show origin of config (file, standard input, blob, command line)\n",
            "\n",
            "usage: git config [<options>]\n",
            "\n",
            "Config file location\n",
            "    --global              use global config file\n",
            "    --system              use system config file\n",
            "    --local               use repository config file\n",
            "    -f, --file <file>     use given config file\n",
            "    --blob <blob-id>      read config from given blob object\n",
            "\n",
            "Action\n",
            "    --get                 get value: name [value-regex]\n",
            "    --get-all             get all values: key [value-regex]\n",
            "    --get-regexp          get values for regexp: name-regex [value-regex]\n",
            "    --get-urlmatch        get value specific for the URL: section[.var] URL\n",
            "    --replace-all         replace all matching variables: name value [value_regex]\n",
            "    --add                 add a new variable: name value\n",
            "    --unset               remove a variable: name [value-regex]\n",
            "    --unset-all           remove all matches: name [value-regex]\n",
            "    --rename-section      rename section: old-name new-name\n",
            "    --remove-section      remove a section: name\n",
            "    -l, --list            list all\n",
            "    -e, --edit            open an editor\n",
            "    --get-color           find the color configured: slot [default]\n",
            "    --get-colorbool       find the color setting: slot [stdout-is-tty]\n",
            "\n",
            "Type\n",
            "    --bool                value is \"true\" or \"false\"\n",
            "    --int                 value is decimal number\n",
            "    --bool-or-int         value is --bool or --int\n",
            "    --path                value is a path (file or directory name)\n",
            "    --expiry-date         value is an expiry date\n",
            "\n",
            "Other\n",
            "    -z, --null            terminate values with NUL byte\n",
            "    --name-only           show variable names only\n",
            "    --includes            respect include directives on lookup\n",
            "    --show-origin         show origin of config (file, standard input, blob, command line)\n",
            "\n",
            "\n",
            "*** Please tell me who you are.\n",
            "\n",
            "Run\n",
            "\n",
            "  git config --global user.email \"you@example.com\"\n",
            "  git config --global user.name \"Your Name\"\n",
            "\n",
            "to set your account's default identity.\n",
            "Omit --global to set the identity only in this repository.\n",
            "\n",
            "fatal: unable to auto-detect email address (got 'root@89058f2526ea.(none)')\n"
          ]
        }
      ]
    },
    {
      "cell_type": "code",
      "metadata": {
        "colab": {
          "base_uri": "https://localhost:8080/"
        },
        "id": "UxdE8MNXIY03",
        "outputId": "59a4f6b3-66cc-49e8-998d-a7004dc737e8"
      },
      "source": [
        ""
      ],
      "execution_count": 2,
      "outputs": [
        {
          "output_type": "stream",
          "name": "stdout",
          "text": [
            "usage: git config [<options>]\n",
            "\n",
            "Config file location\n",
            "    --global              use global config file\n",
            "    --system              use system config file\n",
            "    --local               use repository config file\n",
            "    -f, --file <file>     use given config file\n",
            "    --blob <blob-id>      read config from given blob object\n",
            "\n",
            "Action\n",
            "    --get                 get value: name [value-regex]\n",
            "    --get-all             get all values: key [value-regex]\n",
            "    --get-regexp          get values for regexp: name-regex [value-regex]\n",
            "    --get-urlmatch        get value specific for the URL: section[.var] URL\n",
            "    --replace-all         replace all matching variables: name value [value_regex]\n",
            "    --add                 add a new variable: name value\n",
            "    --unset               remove a variable: name [value-regex]\n",
            "    --unset-all           remove all matches: name [value-regex]\n",
            "    --rename-section      rename section: old-name new-name\n",
            "    --remove-section      remove a section: name\n",
            "    -l, --list            list all\n",
            "    -e, --edit            open an editor\n",
            "    --get-color           find the color configured: slot [default]\n",
            "    --get-colorbool       find the color setting: slot [stdout-is-tty]\n",
            "\n",
            "Type\n",
            "    --bool                value is \"true\" or \"false\"\n",
            "    --int                 value is decimal number\n",
            "    --bool-or-int         value is --bool or --int\n",
            "    --path                value is a path (file or directory name)\n",
            "    --expiry-date         value is an expiry date\n",
            "\n",
            "Other\n",
            "    -z, --null            terminate values with NUL byte\n",
            "    --name-only           show variable names only\n",
            "    --includes            respect include directives on lookup\n",
            "    --show-origin         show origin of config (file, standard input, blob, command line)\n",
            "\n",
            "usage: git config [<options>]\n",
            "\n",
            "Config file location\n",
            "    --global              use global config file\n",
            "    --system              use system config file\n",
            "    --local               use repository config file\n",
            "    -f, --file <file>     use given config file\n",
            "    --blob <blob-id>      read config from given blob object\n",
            "\n",
            "Action\n",
            "    --get                 get value: name [value-regex]\n",
            "    --get-all             get all values: key [value-regex]\n",
            "    --get-regexp          get values for regexp: name-regex [value-regex]\n",
            "    --get-urlmatch        get value specific for the URL: section[.var] URL\n",
            "    --replace-all         replace all matching variables: name value [value_regex]\n",
            "    --add                 add a new variable: name value\n",
            "    --unset               remove a variable: name [value-regex]\n",
            "    --unset-all           remove all matches: name [value-regex]\n",
            "    --rename-section      rename section: old-name new-name\n",
            "    --remove-section      remove a section: name\n",
            "    -l, --list            list all\n",
            "    -e, --edit            open an editor\n",
            "    --get-color           find the color configured: slot [default]\n",
            "    --get-colorbool       find the color setting: slot [stdout-is-tty]\n",
            "\n",
            "Type\n",
            "    --bool                value is \"true\" or \"false\"\n",
            "    --int                 value is decimal number\n",
            "    --bool-or-int         value is --bool or --int\n",
            "    --path                value is a path (file or directory name)\n",
            "    --expiry-date         value is an expiry date\n",
            "\n",
            "Other\n",
            "    -z, --null            terminate values with NUL byte\n",
            "    --name-only           show variable names only\n",
            "    --includes            respect include directives on lookup\n",
            "    --show-origin         show origin of config (file, standard input, blob, command line)\n",
            "\n"
          ]
        }
      ]
    },
    {
      "cell_type": "code",
      "metadata": {
        "colab": {
          "base_uri": "https://localhost:8080/"
        },
        "id": "62uiLvdOIpD5",
        "outputId": "981b384e-3cdd-4ab6-b082-20609b5521ad"
      },
      "source": [
        ""
      ],
      "execution_count": 4,
      "outputs": [
        {
          "output_type": "stream",
          "name": "stdout",
          "text": [
            "\n",
            "*** Please tell me who you are.\n",
            "\n",
            "Run\n",
            "\n",
            "  git config --global user.email \"you@example.com\"\n",
            "  git config --global user.name \"Your Name\"\n",
            "\n",
            "to set your account's default identity.\n",
            "Omit --global to set the identity only in this repository.\n",
            "\n",
            "fatal: unable to auto-detect email address (got 'root@89058f2526ea.(none)')\n"
          ]
        }
      ]
    }
  ]
}